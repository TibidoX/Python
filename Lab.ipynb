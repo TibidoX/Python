{
 "cells": [
  {
   "cell_type": "code",
   "execution_count": 3,
   "metadata": {},
   "outputs": [],
   "source": [
    "import numpy as np\n",
    "import matplotlib.pyplot as plt\n",
    "import pandas as pd\n",
    "%matplotlib inline\n",
    "from scipy import integrate"
   ]
  },
  {
   "cell_type": "markdown",
   "metadata": {},
   "source": [
    "# Численное вычисление интеграла"
   ]
  },
  {
   "cell_type": "markdown",
   "metadata": {},
   "source": [
    "Задача: необходимо вычислить приближенное значение определенного интеграла $$\\int_0^1 \\frac{4}{1+x^2}dx = \\pi,$$ используя правила прямоугольников, трапеций и Симпсона."
   ]
  },
  {
   "cell_type": "markdown",
   "metadata": {},
   "source": [
    "#### График подынтегральной функции:"
   ]
  },
  {
   "cell_type": "code",
   "execution_count": 33,
   "metadata": {},
   "outputs": [
    {
     "data": {
      "image/png": "[encoded data removed]",
      "text/plain": [
       "<Figure size 432x288 with 1 Axes>"
      ]
     },
     "metadata": {
      "needs_background": "light"
     },
     "output_type": "display_data"
    }
   ],
   "source": [
    "xx = np.linspace(-8,8,500)\n",
    "yy = 4/(1+xx*xx)\n",
    "plt.plot(xx, yy)\n",
    "plt.grid()\n",
    "pass"
   ]
  },
  {
   "cell_type": "markdown",
   "metadata": {},
   "source": [
    "#### Правило (средних) прямоугольников"
   ]
  },
  {
   "cell_type": "markdown",
   "metadata": {},
   "source": [
    "Пусть $$a = x_0 < x_1 < \\dots < x_{n-1} < x_n = b,$$ "
   ]
  },
  {
   "cell_type": "markdown",
   "metadata": {},
   "source": [
    "тогда $$x_{k + \\frac{1}{2}} = \\frac{x_k - x_{k-1}}{2} \\quad (k=0,1,\\dots,n-1)$$\n",
    "$$\\int_a^b f(x) dx \\approx \\sum_{k=0}^{n-1} f\\left(x_{k+\\frac{1}{2}}\\right) \\cdot (x_k - x_{k-1})$$"
   ]
  },
  {
   "cell_type": "markdown",
   "metadata": {},
   "source": [
    "для равноотстоящих узлов ($\\ x_k - x_{k-1}=h$) получаем $$\\int_a^b f(x) dx \\approx h\\sum_{k=0}^{n-1} f\\left(x_{k+\\frac{1}{2}}\\right)$$"
   ]
  },
  {
   "cell_type": "markdown",
   "metadata": {},
   "source": [
    "Вычислим приближенное значение интеграла с помощью правила прямоугольников с числом узлов $n=2$:"
   ]
  },
  {
   "cell_type": "code",
   "execution_count": 6,
   "metadata": {},
   "outputs": [
    {
     "data": {
      "text/plain": [
       "3.1623529411764704"
      ]
     },
     "execution_count": 6,
     "metadata": {},
     "output_type": "execute_result"
    }
   ],
   "source": [
    "a = 0\n",
    "b = 1\n",
    "n = 2\n",
    "h = (b - a)/n\n",
    "x = np.arange(a + h/2, b, h)\n",
    "y = 4/(1+x*x)\n",
    "I_rect = h*sum(y)\n",
    "I_rect"
   ]
  },
  {
   "cell_type": "markdown",
   "metadata": {},
   "source": [
    "Рассчитаем значение интеграла для $n=4,8,16,32,64,128$, сравним со значением числа $\\pi$ и занесем данные в таблицу: "
   ]
  },
  {
   "cell_type": "code",
   "execution_count": 72,
   "metadata": {},
   "outputs": [],
   "source": [
    "trect = [[0,0,0],[0,0,0],[0,0,0],[0,0,0],[0,0,0],[0,0,0],[0,0,0]]\n",
    "for i in range(7):\n",
    "    n = 2**(i+1)\n",
    "    a = 0\n",
    "    b = 1\n",
    "    h = (b - a)/n\n",
    "    x = np.arange(a + h/2, b, h)\n",
    "    y = 4/(1+x*x)\n",
    "    I_rect = h*sum(y)\n",
    "    trect[i][0] = n\n",
    "    trect[i][1] = I_rect\n",
    "    trect[i][2] = I_rect-np.pi"
   ]
  },
  {
   "cell_type": "code",
   "execution_count": 62,
   "metadata": {},
   "outputs": [],
   "source": [
    "pd.set_option('display.float_format', '{:.16f}'.format)"
   ]
  },
  {
   "cell_type": "code",
   "execution_count": 63,
   "metadata": {},
   "outputs": [
    {
     "data": {
      "text/html": [
       "<div>\n",
       "<style scoped>\n",
       "    .dataframe tbody tr th:only-of-type {\n",
       "        vertical-align: middle;\n",
       "    }\n",
       "\n",
       "    .dataframe tbody tr th {\n",
       "        vertical-align: top;\n",
       "    }\n",
       "\n",
       "    .dataframe thead th {\n",
       "        text-align: right;\n",
       "    }\n",
       "</style>\n",
       "<table border=\"1\" class=\"dataframe\">\n",
       "  <thead>\n",
       "    <tr style=\"text-align: right;\">\n",
       "      <th></th>\n",
       "      <th>n</th>\n",
       "      <th>Значение</th>\n",
       "      <th>Погрешность</th>\n",
       "    </tr>\n",
       "  </thead>\n",
       "  <tbody>\n",
       "    <tr>\n",
       "      <th>0</th>\n",
       "      <td>2</td>\n",
       "      <td>3.1623529411764704</td>\n",
       "      <td>0.0207602875866773</td>\n",
       "    </tr>\n",
       "    <tr>\n",
       "      <th>1</th>\n",
       "      <td>4</td>\n",
       "      <td>3.1468005183939427</td>\n",
       "      <td>0.0052078648041496</td>\n",
       "    </tr>\n",
       "    <tr>\n",
       "      <th>2</th>\n",
       "      <td>8</td>\n",
       "      <td>3.1428947295916889</td>\n",
       "      <td>0.0013020760018958</td>\n",
       "    </tr>\n",
       "    <tr>\n",
       "      <th>3</th>\n",
       "      <td>16</td>\n",
       "      <td>3.1419181743085600</td>\n",
       "      <td>0.0003255207187669</td>\n",
       "    </tr>\n",
       "    <tr>\n",
       "      <th>4</th>\n",
       "      <td>32</td>\n",
       "      <td>3.1416740337963374</td>\n",
       "      <td>0.0000813802065442</td>\n",
       "    </tr>\n",
       "    <tr>\n",
       "      <th>5</th>\n",
       "      <td>64</td>\n",
       "      <td>3.1416129986418473</td>\n",
       "      <td>0.0000203450520542</td>\n",
       "    </tr>\n",
       "    <tr>\n",
       "      <th>6</th>\n",
       "      <td>128</td>\n",
       "      <td>3.1415977398528145</td>\n",
       "      <td>0.0000050862630214</td>\n",
       "    </tr>\n",
       "  </tbody>\n",
       "</table>\n",
       "</div>"
      ],
      "text/plain": [
       "     n           Значение        Погрешность\n",
       "0    2 3.1623529411764704 0.0207602875866773\n",
       "1    4 3.1468005183939427 0.0052078648041496\n",
       "2    8 3.1428947295916889 0.0013020760018958\n",
       "3   16 3.1419181743085600 0.0003255207187669\n",
       "4   32 3.1416740337963374 0.0000813802065442\n",
       "5   64 3.1416129986418473 0.0000203450520542\n",
       "6  128 3.1415977398528145 0.0000050862630214"
      ]
     },
     "execution_count": 63,
     "metadata": {},
     "output_type": "execute_result"
    }
   ],
   "source": [
    "pd.DataFrame(trect, columns=[\"n\",\"Значение\", \"Погрешность\"])"
   ]
  },
  {
   "cell_type": "markdown",
   "metadata": {},
   "source": [
    "С удвоением числа узлов погрешность уменьшается примерно в 4 раза."
   ]
  },
  {
   "cell_type": "code",
   "execution_count": 116,
   "metadata": {},
   "outputs": [
    {
     "data": {
      "image/png": "[encoded data removed]",
      "text/plain": [
       "<Figure size 1080x720 with 1 Axes>"
      ]
     },
     "metadata": {
      "needs_background": "light"
     },
     "output_type": "display_data"
    }
   ],
   "source": [
    "xx = [2,4,8,16,32,64,128]\n",
    "yrect = [trect[0][1],trect[1][1],trect[2][1],trect[3][1],trect[4][1],trect[5][1],trect[6][1]]\n",
    "x1 = np.linspace(0,128,2)\n",
    "y1 = [np.pi,np.pi]\n",
    "plt.figure(figsize=(15, 10))\n",
    "plt.xscale('log', base = 2)\n",
    "plt.plot(xx, yrect)\n",
    "plt.plot(x1,y1)\n",
    "plt.text(2.5, 3.16, \"Значение интегральных сумм\")\n",
    "plt.text(2, np.pi+0.001, \"$y=\\pi$\")\n",
    "plt.grid()\n",
    "pass"
   ]
  },
  {
   "cell_type": "markdown",
   "metadata": {},
   "source": [
    "#### Правило Трапеций"
   ]
  },
  {
   "cell_type": "markdown",
   "metadata": {},
   "source": [
    "$$\\int_a^b f(x) dx \\approx \\sum_{k=1}^n \\frac{f(x_k) + f(x_k)}{2} \\cdot (x_k - x_{k-1})$$"
   ]
  },
  {
   "cell_type": "markdown",
   "metadata": {},
   "source": [
    "для равноотстоящих узлов получаем $$\\int_a^b f(x) dx \\approx h\\left( \\frac{f(x_0) + f(x_n)}{2} + f(x_1) + f(x_2) + \\dots + f(x_{n-1}) \\right).$$"
   ]
  },
  {
   "cell_type": "markdown",
   "metadata": {},
   "source": [
    "Вычислим приближенное значение интеграла с помощью правила трапеций с числом узлов $n=2$:"
   ]
  },
  {
   "cell_type": "code",
   "execution_count": 105,
   "metadata": {},
   "outputs": [
    {
     "data": {
      "text/plain": [
       "3.1"
      ]
     },
     "execution_count": 105,
     "metadata": {},
     "output_type": "execute_result"
    }
   ],
   "source": [
    "a = 0\n",
    "b = 1\n",
    "n = 2\n",
    "h = (b - a)/n\n",
    "x = np.linspace(a, b, n + 1)\n",
    "y = 4/(1+x*x)\n",
    "I_trapz = integrate.trapz(y, x)\n",
    "I_trapz"
   ]
  },
  {
   "cell_type": "markdown",
   "metadata": {},
   "source": [
    "Рассчитаем значение интеграла для $n=4,8,16,32,64,128$, сравним со значением числа $\\pi$ и занесем данные в таблицу:"
   ]
  },
  {
   "cell_type": "code",
   "execution_count": 18,
   "metadata": {},
   "outputs": [
    {
     "data": {
      "text/plain": [
       "[[2, 3.1, 0.04159265358979303],\n",
       " [4, 3.131176470588236, 0.010416183001557222],\n",
       " [8, 3.1389884944910893, 0.0026041590987038177],\n",
       " [16, 3.140941612041389, 0.0006510415484042298],\n",
       " [32, 3.1414298931749745, 0.00016276041481866343],\n",
       " [64, 3.1415519634856555, 4.069010413765284e-05],\n",
       " [128, 3.141582481063752, 1.0172526041074548e-05]]"
      ]
     },
     "execution_count": 18,
     "metadata": {},
     "output_type": "execute_result"
    }
   ],
   "source": [
    "ttrapz = [[0,0,0],[0,0,0],[0,0,0],[0,0,0],[0,0,0],[0,0,0],[0,0,0]]\n",
    "for i in range(7):\n",
    "    a = 0\n",
    "    b = 1\n",
    "    n = 2**(i+1)\n",
    "    h = (b - a)/n\n",
    "    x = np.linspace(a, b, n + 1)\n",
    "    y = 4/(1+x*x)\n",
    "    I_trapz = integrate.trapz(y, x)\n",
    "    ttrapz[i][0] = n\n",
    "    ttrapz[i][1] = I_trapz\n",
    "    ttrapz[i][2] = abs(I_trapz-np.pi)\n",
    "ttrapz"
   ]
  },
  {
   "cell_type": "code",
   "execution_count": 117,
   "metadata": {},
   "outputs": [
    {
     "data": {
      "text/html": [
       "<div>\n",
       "<style scoped>\n",
       "    .dataframe tbody tr th:only-of-type {\n",
       "        vertical-align: middle;\n",
       "    }\n",
       "\n",
       "    .dataframe tbody tr th {\n",
       "        vertical-align: top;\n",
       "    }\n",
       "\n",
       "    .dataframe thead th {\n",
       "        text-align: right;\n",
       "    }\n",
       "</style>\n",
       "<table border=\"1\" class=\"dataframe\">\n",
       "  <thead>\n",
       "    <tr style=\"text-align: right;\">\n",
       "      <th></th>\n",
       "      <th>n</th>\n",
       "      <th>Значение</th>\n",
       "      <th>Погрешность</th>\n",
       "    </tr>\n",
       "  </thead>\n",
       "  <tbody>\n",
       "    <tr>\n",
       "      <th>0</th>\n",
       "      <td>2</td>\n",
       "      <td>3.1000000000000001</td>\n",
       "      <td>0.0415926535897930</td>\n",
       "    </tr>\n",
       "    <tr>\n",
       "      <th>1</th>\n",
       "      <td>4</td>\n",
       "      <td>3.1311764705882359</td>\n",
       "      <td>0.0104161830015572</td>\n",
       "    </tr>\n",
       "    <tr>\n",
       "      <th>2</th>\n",
       "      <td>8</td>\n",
       "      <td>3.1389884944910893</td>\n",
       "      <td>0.0026041590987038</td>\n",
       "    </tr>\n",
       "    <tr>\n",
       "      <th>3</th>\n",
       "      <td>16</td>\n",
       "      <td>3.1409416120413889</td>\n",
       "      <td>0.0006510415484042</td>\n",
       "    </tr>\n",
       "    <tr>\n",
       "      <th>4</th>\n",
       "      <td>32</td>\n",
       "      <td>3.1414298931749745</td>\n",
       "      <td>0.0001627604148187</td>\n",
       "    </tr>\n",
       "    <tr>\n",
       "      <th>5</th>\n",
       "      <td>64</td>\n",
       "      <td>3.1415519634856555</td>\n",
       "      <td>0.0000406901041377</td>\n",
       "    </tr>\n",
       "    <tr>\n",
       "      <th>6</th>\n",
       "      <td>128</td>\n",
       "      <td>3.1415824810637520</td>\n",
       "      <td>0.0000101725260411</td>\n",
       "    </tr>\n",
       "  </tbody>\n",
       "</table>\n",
       "</div>"
      ],
      "text/plain": [
       "     n           Значение        Погрешность\n",
       "0    2 3.1000000000000001 0.0415926535897930\n",
       "1    4 3.1311764705882359 0.0104161830015572\n",
       "2    8 3.1389884944910893 0.0026041590987038\n",
       "3   16 3.1409416120413889 0.0006510415484042\n",
       "4   32 3.1414298931749745 0.0001627604148187\n",
       "5   64 3.1415519634856555 0.0000406901041377\n",
       "6  128 3.1415824810637520 0.0000101725260411"
      ]
     },
     "execution_count": 117,
     "metadata": {},
     "output_type": "execute_result"
    }
   ],
   "source": [
    "pd.set_option('display.float_format', '{:.16f}'.format)\n",
    "pd.DataFrame(ttrapz, columns=[\"n\",\"Значение\", \"Погрешность\"])"
   ]
  },
  {
   "cell_type": "markdown",
   "metadata": {},
   "source": [
    "При удвоении числа узлов погрешность также уменьшается в 4 раза."
   ]
  },
  {
   "cell_type": "code",
   "execution_count": 115,
   "metadata": {},
   "outputs": [
    {
     "data": {
      "image/png": "[encoded data removed]",
      "text/plain": [
       "<Figure size 1080x720 with 1 Axes>"
      ]
     },
     "metadata": {
      "needs_background": "light"
     },
     "output_type": "display_data"
    }
   ],
   "source": [
    "xx = [2,4,8,16,32,64,128]\n",
    "ytrapz = [ttrapz[0][1],ttrapz[1][1],ttrapz[2][1],ttrapz[3][1],ttrapz[4][1],ttrapz[5][1],ttrapz[6][1]]\n",
    "x1 = np.linspace(0,128,2)\n",
    "y1 = [np.pi,np.pi]\n",
    "plt.figure(figsize=(15, 10))\n",
    "plt.xscale('log', base = 2)\n",
    "plt.plot(xx, ytrapz)\n",
    "plt.plot(x1,y1)\n",
    "plt.text(2.5, 3.105, \"Значение интегральных сумм\")\n",
    "plt.text(2, np.pi+0.001, \"$y=\\pi$\")\n",
    "plt.grid()\n",
    "pass"
   ]
  },
  {
   "cell_type": "markdown",
   "metadata": {},
   "source": [
    "#### Правило Симпсона"
   ]
  },
  {
   "cell_type": "markdown",
   "metadata": {},
   "source": [
    "Вычислим приближенное значение интеграла с помощью формулы Симпсона с числом узлов $n=2$:"
   ]
  },
  {
   "cell_type": "code",
   "execution_count": 15,
   "metadata": {},
   "outputs": [
    {
     "data": {
      "text/plain": [
       "3.1333333333333333"
      ]
     },
     "execution_count": 15,
     "metadata": {},
     "output_type": "execute_result"
    }
   ],
   "source": [
    "a = 0\n",
    "b = 1\n",
    "n = 2\n",
    "x = np.linspace(a, b, n + 1)\n",
    "y = 4/(1+x*x)\n",
    "I_simps = integrate.simps(y, x)\n",
    "I_simps"
   ]
  },
  {
   "cell_type": "code",
   "execution_count": 17,
   "metadata": {},
   "outputs": [
    {
     "data": {
      "text/plain": [
       "[[2, 3.1333333333333333, 0.008259320256459812],\n",
       " [4, 3.1415686274509804, 2.4026138812693887e-05],\n",
       " [8, 3.1415925024587064, 1.511310867563509e-07],\n",
       " [16, 3.141592651224822, 2.364971329882337e-09],\n",
       " [32, 3.141592653552836, 3.695710404372221e-11],\n",
       " [64, 3.141592653589216, 5.773159728050814e-13],\n",
       " [128, 3.1415926535897842, 8.881784197001252e-15]]"
      ]
     },
     "execution_count": 17,
     "metadata": {},
     "output_type": "execute_result"
    }
   ],
   "source": [
    "tsimps = [[0,0,0],[0,0,0],[0,0,0],[0,0,0],[0,0,0],[0,0,0],[0,0,0]]\n",
    "for i in range(7):\n",
    "    a = 0\n",
    "    b = 1\n",
    "    n = 2**(i+1)\n",
    "    h = (b - a)/n\n",
    "    x = np.linspace(a, b, n + 1)\n",
    "    y = 4/(1+x*x)\n",
    "    I_simps = integrate.simps(y, x)\n",
    "    tsimps[i][0] = n\n",
    "    tsimps[i][1] = I_simps\n",
    "    tsimps[i][2] = abs(I_simps-np.pi)\n",
    "tsimps"
   ]
  },
  {
   "cell_type": "code",
   "execution_count": 20,
   "metadata": {},
   "outputs": [
    {
     "data": {
      "text/html": [
       "<div>\n",
       "<style scoped>\n",
       "    .dataframe tbody tr th:only-of-type {\n",
       "        vertical-align: middle;\n",
       "    }\n",
       "\n",
       "    .dataframe tbody tr th {\n",
       "        vertical-align: top;\n",
       "    }\n",
       "\n",
       "    .dataframe thead th {\n",
       "        text-align: right;\n",
       "    }\n",
       "</style>\n",
       "<table border=\"1\" class=\"dataframe\">\n",
       "  <thead>\n",
       "    <tr style=\"text-align: right;\">\n",
       "      <th></th>\n",
       "      <th>n</th>\n",
       "      <th>Значение</th>\n",
       "      <th>Погрешность</th>\n",
       "    </tr>\n",
       "  </thead>\n",
       "  <tbody>\n",
       "    <tr>\n",
       "      <th>0</th>\n",
       "      <td>2</td>\n",
       "      <td>3.1333333333333333</td>\n",
       "      <td>0.0082593202564598</td>\n",
       "    </tr>\n",
       "    <tr>\n",
       "      <th>1</th>\n",
       "      <td>4</td>\n",
       "      <td>3.1415686274509804</td>\n",
       "      <td>0.0000240261388127</td>\n",
       "    </tr>\n",
       "    <tr>\n",
       "      <th>2</th>\n",
       "      <td>8</td>\n",
       "      <td>3.1415925024587064</td>\n",
       "      <td>0.0000001511310868</td>\n",
       "    </tr>\n",
       "    <tr>\n",
       "      <th>3</th>\n",
       "      <td>16</td>\n",
       "      <td>3.1415926512248218</td>\n",
       "      <td>0.0000000023649713</td>\n",
       "    </tr>\n",
       "    <tr>\n",
       "      <th>4</th>\n",
       "      <td>32</td>\n",
       "      <td>3.1415926535528360</td>\n",
       "      <td>0.0000000000369571</td>\n",
       "    </tr>\n",
       "    <tr>\n",
       "      <th>5</th>\n",
       "      <td>64</td>\n",
       "      <td>3.1415926535892158</td>\n",
       "      <td>0.0000000000005773</td>\n",
       "    </tr>\n",
       "    <tr>\n",
       "      <th>6</th>\n",
       "      <td>128</td>\n",
       "      <td>3.1415926535897842</td>\n",
       "      <td>0.0000000000000089</td>\n",
       "    </tr>\n",
       "  </tbody>\n",
       "</table>\n",
       "</div>"
      ],
      "text/plain": [
       "     n           Значение        Погрешность\n",
       "0    2 3.1333333333333333 0.0082593202564598\n",
       "1    4 3.1415686274509804 0.0000240261388127\n",
       "2    8 3.1415925024587064 0.0000001511310868\n",
       "3   16 3.1415926512248218 0.0000000023649713\n",
       "4   32 3.1415926535528360 0.0000000000369571\n",
       "5   64 3.1415926535892158 0.0000000000005773\n",
       "6  128 3.1415926535897842 0.0000000000000089"
      ]
     },
     "execution_count": 20,
     "metadata": {},
     "output_type": "execute_result"
    }
   ],
   "source": [
    "pd.set_option('display.float_format', '{:.16f}'.format)\n",
    "pd.DataFrame(tsimps, columns=[\"n\",\"Значение\", \"Погрешность\"])"
   ]
  },
  {
   "cell_type": "markdown",
   "metadata": {},
   "source": [
    "Здесь, по сравнению с предыдущими методами, погрешность уменьшается значительно быстрее, в несколько сотен раз."
   ]
  },
  {
   "cell_type": "code",
   "execution_count": 114,
   "metadata": {
    "scrolled": false
   },
   "outputs": [
    {
     "data": {
      "image/png": "[encoded data removed]",
      "text/plain": [
       "<Figure size 1080x720 with 1 Axes>"
      ]
     },
     "metadata": {
      "needs_background": "light"
     },
     "output_type": "display_data"
    }
   ],
   "source": [
    "xx = [2,4,8,16,32,64,128]\n",
    "ysimps = [tsimps[0][1],tsimps[1][1],tsimps[2][1],tsimps[3][1],tsimps[4][1],tsimps[5][1],tsimps[6][1]]\n",
    "x1 = np.linspace(0,128,2)\n",
    "y1 = [np.pi,np.pi]\n",
    "plt.figure(figsize=(15, 10))\n",
    "plt.xscale('log', base = 2)\n",
    "plt.plot(xx, ysimps)\n",
    "plt.plot(x1,y1)\n",
    "plt.text(3, 3.134, \"Значение интегральных сумм\")\n",
    "plt.text(2, 3.1417, \"$y=\\pi$\")\n",
    "plt.grid()\n",
    "pass"
   ]
  },
  {
   "cell_type": "markdown",
   "metadata": {},
   "source": [
    "## Сравнение"
   ]
  },
  {
   "cell_type": "code",
   "execution_count": 113,
   "metadata": {},
   "outputs": [
    {
     "data": {
      "image/png": "[encoded data removed]",
      "text/plain": [
       "<Figure size 1080x720 with 1 Axes>"
      ]
     },
     "metadata": {
      "needs_background": "light"
     },
     "output_type": "display_data"
    }
   ],
   "source": [
    "xx = [2,4,8,16,32,64,128]\n",
    "plt.figure(figsize=(15, 10))\n",
    "plt.plot(xx,yrect,label='Правило прямоугольников')\n",
    "plt.plot(xx,ytrapz,label='Правило трапеций')\n",
    "plt.plot(xx,ysimps,label='Правило Симпсона')\n",
    "plt.plot(x1,y1,label='$y=\\pi$')\n",
    "plt.xscale('log', base = 2)\n",
    "plt.legend()\n",
    "plt.grid()\n",
    "pass"
   ]
  },
  {
   "cell_type": "markdown",
   "metadata": {},
   "source": [
    "## Вывод\n",
    "Для вычисления интегралов более точным является метод Симпсона. При увеличении числа узлов погрешность уменьшается в сотни раз, а потом и вовсе перестает изменяться. Возможной причиной этого может являться возможность взятия интеграла в элементарных функциях."
   ]
  },
  {
   "cell_type": "code",
   "execution_count": null,
   "metadata": {},
   "outputs": [],
   "source": []
  }
 ],
 "metadata": {
  "kernelspec": {
   "display_name": "Python 3",
   "language": "python",
   "name": "python3"
  },
  "language_info": {
   "codemirror_mode": {
    "name": "ipython",
    "version": 3
   },
   "file_extension": ".py",
   "mimetype": "text/x-python",
   "name": "python",
   "nbconvert_exporter": "python",
   "pygments_lexer": "ipython3",
   "version": "3.8.5"
  }
 },
 "nbformat": 4,
 "nbformat_minor": 4
}
